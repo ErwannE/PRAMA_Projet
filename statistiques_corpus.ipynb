{
 "cells": [
  {
   "cell_type": "markdown",
   "metadata": {},
   "source": [
    "# Statistiques sur la transcription de débats du Parlement Européen\n",
    "Le document utilisé est europarl-v6.fr-en.fr"
   ]
  },
  {
   "cell_type": "code",
   "execution_count": 67,
   "metadata": {},
   "outputs": [],
   "source": [
    "def count_words(file_path):\n",
    "    with open(file_path, 'r', encoding='utf-8') as file:\n",
    "        text = file.read()\n",
    "        word_count = len(text.split())  # Divise le texte en mots en utilisant l'espace comme séparateur et compte les mots\n",
    "    return word_count\n",
    "\n",
    "def count_char(file_path, char):\n",
    "    with open(file_path, 'r', encoding='utf-8') as file:\n",
    "        text = file.read()\n",
    "        char_count = text.count(char)  # Compte le nombre de fois où le caractère spécifié apparaît dans le texte\n",
    "    return char_count\n",
    "\n",
    "def count_lines(file_path):\n",
    "    with open(file_path, 'r', encoding='utf-8') as file:\n",
    "        line_count = 0\n",
    "        for line in file:\n",
    "            line_count += 1\n",
    "    return line_count\n"
   ]
  },
  {
   "cell_type": "code",
   "execution_count": 68,
   "metadata": {},
   "outputs": [
    {
     "name": "stdout",
     "output_type": "stream",
     "text": [
      "Nombre de mots dans le document : 150\n"
     ]
    }
   ],
   "source": [
    "# Décompte des mots dans le document\n",
    "file_path = '/Users/quentingirard/Desktop/Ecole/2A_Ponts/S4/PRAMA/europarl-v6.fr-en.fr'     #Chemin de la BDD pour Quentin\n",
    "word_count = count_words(file_path)\n",
    "print(\"Nombre de mots dans le document :\", word_count)"
   ]
  },
  {
   "cell_type": "code",
   "execution_count": 69,
   "metadata": {},
   "outputs": [
    {
     "name": "stdout",
     "output_type": "stream",
     "text": [
      "Nombre de caractères '.?!' dans le document : 6\n"
     ]
    }
   ],
   "source": [
    "# Décompte des caractères de type point dans le document\n",
    "char_count = count_char(file_path, '.') + count_char(file_path, '?') + count_char(file_path, '!')\n",
    "print(f\"Nombre de caractères '.?!' dans le document :\", char_count)"
   ]
  },
  {
   "cell_type": "code",
   "execution_count": 70,
   "metadata": {},
   "outputs": [
    {
     "name": "stdout",
     "output_type": "stream",
     "text": [
      "Nombre de lignes dans le document : 7\n"
     ]
    }
   ],
   "source": [
    "line_count = count_lines(file_path)\n",
    "print(\"Nombre de lignes dans le document :\", line_count)"
   ]
  },
  {
   "cell_type": "markdown",
   "metadata": {},
   "source": [
    "Toutes les phrases ne se finissent pas par un point, seulement les phrases parlées. À l'inverse, les noms propres prennent un point, donc il y a plus de points que de phrases. Chaque ligne correspond à une phrase."
   ]
  }
 ],
 "metadata": {
  "kernelspec": {
   "display_name": "ISDO",
   "language": "python",
   "name": "python3"
  },
  "language_info": {
   "codemirror_mode": {
    "name": "ipython",
    "version": 3
   },
   "file_extension": ".py",
   "mimetype": "text/x-python",
   "name": "python",
   "nbconvert_exporter": "python",
   "pygments_lexer": "ipython3",
   "version": "3.9.6"
  }
 },
 "nbformat": 4,
 "nbformat_minor": 2
}
