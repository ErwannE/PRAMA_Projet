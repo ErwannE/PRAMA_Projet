{
 "cells": [
  {
   "cell_type": "code",
   "execution_count": null,
   "metadata": {},
   "outputs": [],
   "source": [
    "# Importations\n",
    "\n",
    "import numpy as np # Pour les calculs mathématiques\n",
    "import matplotlib.pyplot as plt # Pour les graphiques\n",
    "import pandas as pd # Pour la manipulation de tableaux de données\n",
    "#\n",
    "# from spellchecker import SpellChecker # Pour vérifier que le dataset d'entraînement ne contient pas de fautes d'orthographe ni de noms propres\n",
    "import time # Pour mesurer le temps d'exécution"
   ]
  },
  {
   "cell_type": "code",
   "execution_count": null,
   "metadata": {},
   "outputs": [],
   "source": [
    "#file_path = '/Users/quentingirard/Desktop/Ecole/2A_Ponts/S4/PRAMA/europarl-v6.fr-en.fr_toy'     #Chemin de la BDD jouet pour Quentin\n",
    "#file_path = '/Users/quentingirard/Desktop/Ecole/2A_Ponts/S4/PRAMA/europarl-v6.fr-en.fr_real'     #Chemin de la BDD complète pour Quentin\n",
    "\n",
    "file_path = 'c:/Users/erwan/Documents/ENPC/2A/PRAMA/PRAMA_Projet/europarl-v6.fr-en.fr'"
   ]
  },
  {
   "cell_type": "code",
   "execution_count": null,
   "metadata": {},
   "outputs": [],
   "source": [
    "def remove_accents(text):\n",
    "    text = text.replace('à', 'a')\n",
    "    text = text.replace('â', 'a')\n",
    "    text = text.replace('é', 'e')\n",
    "    text = text.replace('è', 'e')\n",
    "    text = text.replace('ê', 'e')\n",
    "    text = text.replace('î', 'i')\n",
    "    text = text.replace('ô', 'o')\n",
    "    text = text.replace('ù', 'u')\n",
    "    text = text.replace('û', 'u')\n",
    "    text = text.replace('ç', 'c')\n",
    "    text = text.replace('À', 'A')\n",
    "    text = text.replace('Â', 'A')\n",
    "    text = text.replace('É', 'E')\n",
    "    text = text.replace('È', 'E')\n",
    "    text = text.replace('Ê', 'E')\n",
    "    text = text.replace('Î', 'I')\n",
    "    text = text.replace('Ô', 'O')\n",
    "    text = text.replace('Ù', 'U')\n",
    "    text = text.replace('Û', 'U')\n",
    "    text = text.replace('Ç', 'C')\n",
    "    return text\n",
    "\n",
    "def remove_special_chars(text):\n",
    "    text = text.replace('.', '')\n",
    "    text = text.replace('!', ' ')\n",
    "    text = text.replace('?', ' ')\n",
    "    text = text.replace(\"' \", ' ')\n",
    "    text = text.replace(\"'\", ' ')\n",
    "    text = text.replace('\"', ' ')\n",
    "    text = text.replace(',', '')\n",
    "    text = text.replace(';', ' ')\n",
    "    text = text.replace('(', '')\n",
    "    text = text.replace(')','')\n",
    "    text = text.replace(': ', ' ')\n",
    "    text = text.replace(':', ' ')\n",
    "    text = text.replace('«', '')\n",
    "    text = text.replace('»', '')\n",
    "    text = text.replace('-', '')\n",
    "    text = text.replace('-', '')\n",
    "    text = text.replace('–', '')\n",
    "    text = text.replace('’', ' ')\n",
    "    return text\n",
    "\n",
    "def remove_double_spaces(text):\n",
    "    text = text.replace('  ', ' ')\n",
    "    text = text.replace('   ', ' ')\n",
    "    return text\n",
    "\n",
    "def remove_numbers(text):\n",
    "    text = ''.join([i for i in text if not i.isdigit()])\n",
    "    return text"
   ]
  },
  {
   "cell_type": "code",
   "execution_count": null,
   "metadata": {},
   "outputs": [],
   "source": [
    "def text_preparation(file_path, number_char, verbose=False):\n",
    "    # Ouverture du fichier\n",
    "    number_char = min(number_char, 304390477) \n",
    "    with open(file_path, 'r', encoding='utf-8') as file:\n",
    "        text = file.read(number_char)\n",
    "\n",
    "    # Suppression des caractères inintéressants\n",
    "    text = text.lower() # On met tout en minuscule - abandonné car on a besoin des majuscules pour identifier les noms propres.\n",
    "    #text = remove_accents(text) # On enlève les accents\n",
    "    text = remove_special_chars(text) # On remplace les caractères spéciaux par des espaces\n",
    "    text = remove_numbers(text) # On enlève les chiffres\n",
    "\n",
    "    ## Vérification de la bonne orthographe des mots\n",
    "    \"\"\"\n",
    "        spell = SpellChecker(language='fr')\n",
    "        words = text.split()\n",
    "        misspelled = spell.unknown(words)\n",
    "        list_misspelled = [word for word in misspelled if len(word) > 1]\n",
    "        print(list_misspelled) if verbose else None\n",
    "\n",
    "        percentage_misspelled = round(len(list_misspelled) / len(words) * 100,2)\n",
    "        print(f\"Percentage of misspelled words: {percentage_misspelled:.2f}%\") if verbose else None\n",
    "    \n",
    "        # C'est triché...\n",
    "    # On supprime les mots mal orthographiés et les noms propres - LIMITANTE TEMPORELLEMENT\n",
    "    time_start = time.time()\n",
    "\n",
    "    print(f'Nouvelle longueur du texte: {len(text.split())} mots') if verbose else None\n",
    "    for word in words:\n",
    "        if word in list_misspelled:\n",
    "            text = text.replace(word, '')\n",
    "\n",
    "    time_end = time.time()\n",
    "    execution_time = round(time_end - time_start,2)\n",
    "    \"\"\"\n",
    "    execution_time = 0\n",
    "    print(f'Temps d\\'exécution: {execution_time} s') if verbose else None\n",
    "\n",
    "    text = remove_double_spaces(text) # On enlève les doubles espaces dus à la suppression des mots et des caractères spéciaux\n",
    "\n",
    "    return text,execution_time"
   ]
  },
  {
   "cell_type": "markdown",
   "metadata": {},
   "source": [
    "## Choix du nombre de caractères du texte constituant la BDD"
   ]
  },
  {
   "cell_type": "code",
   "execution_count": null,
   "metadata": {},
   "outputs": [],
   "source": [
    "execution_times = {}\n",
    "\n",
    "for number_chars in [k * 100000 for k in range(1, 21)]:\n",
    "    text, elapsed_time = text_preparation(file_path, number_chars)\n",
    "    execution_times[number_chars] = elapsed_time\n",
    "    print(f'Nombre de caractères: {number_chars} - Temps d\\'exécution: {elapsed_time} s')\n",
    "\n",
    "for number_chars in [k * 100000 for k in range(20, 42,3)]:\n",
    "    text, elapsed_time = text_preparation(file_path, number_chars)\n",
    "    execution_times[number_chars] = elapsed_time\n",
    "    print(f'Nombre de caractères: {number_chars} - Temps d\\'exécution: {elapsed_time} s')\n",
    "\n",
    "for number_chars in [k * 100000 for k in range(45, 60,5)]:\n",
    "    text, elapsed_time = text_preparation(file_path, number_chars)\n",
    "    execution_times[number_chars] = elapsed_time\n",
    "    print(f'Nombre de caractères: {number_chars} - Temps d\\'exécution: {elapsed_time} s')"
   ]
  },
  {
   "cell_type": "code",
   "execution_count": null,
   "metadata": {},
   "outputs": [],
   "source": [
    "for number_chars in [k * 100000 for k in range(45, 60,5)]:\n",
    "    text, elapsed_time = text_preparation(file_path, number_chars)\n",
    "    execution_times[number_chars] = elapsed_time\n",
    "    print(f'Nombre de caractères: {number_chars} - Temps d\\'exécution: {elapsed_time} s')"
   ]
  },
  {
   "cell_type": "code",
   "execution_count": null,
   "metadata": {},
   "outputs": [],
   "source": [
    "number_chars_list = list(execution_times.keys())\n",
    "execution_time_list = list(execution_times.values())\n",
    "plt.plot(number_chars_list, execution_time_list, marker='o')\n",
    "plt.xlabel('Nombre de caractères')\n",
    "plt.ylabel('Temps d\\'exécution (s)')\n",
    "plt.title('Temps d\\'exécution en fonction du nombre de caractères')\n",
    "plt.grid(True)"
   ]
  },
  {
   "cell_type": "code",
   "execution_count": null,
   "metadata": {},
   "outputs": [],
   "source": [
    "# Régression polynomiale de elapsed time en fonction de number_chars\n",
    "\n",
    "# On crée un tableau de données\n",
    "df = pd.DataFrame(list(execution_times.items()), columns=['number_chars', 'elapsed_time'])\n",
    "\n",
    "# On crée un modèle de régression polynomiale\n",
    "coefficients = np.polyfit(df['number_chars'], df['elapsed_time'], 2)\n",
    "polynomial = np.poly1d(coefficients)\n",
    "\n",
    "# On crée un vecteur de prédiction\n",
    "x = np.linspace(0, 31000000, 310)\n",
    "y = polynomial(x)\n",
    "\n",
    "# On affiche le graphique superposant les données et la régression polynomiale\n",
    "plt.plot(df['number_chars'], df['elapsed_time'], 'o')\n",
    "plt.plot(x, y)\n",
    "plt.xlabel('Number of characters')\n",
    "plt.ylabel('Elapsed time (s)')\n",
    "plt.title('Elapsed time in function of number of characters')\n",
    "plt.show()"
   ]
  },
  {
   "cell_type": "code",
   "execution_count": null,
   "metadata": {},
   "outputs": [],
   "source": [
    "## Affichage du nombre de caractères pour un temps d'exécution donné grâce à la régression\n",
    "\n",
    "wanted_time = 600\n",
    "\n",
    "i = 0\n",
    "while y[i] < wanted_time:\n",
    "    i += 1\n",
    "print(f'Pour un temps d\\'exécution de {wanted_time} s, on peut traiter {int(x[i])} caractères')"
   ]
  },
  {
   "cell_type": "markdown",
   "metadata": {},
   "source": [
    "## Nettoyage du texte et exportation"
   ]
  },
  {
   "cell_type": "code",
   "execution_count": null,
   "metadata": {},
   "outputs": [],
   "source": [
    "number_char_chosen = 100000000\n",
    "\n",
    "text, elapsed_time = text_preparation(file_path, number_char_chosen)\n",
    "# Exportation du texte\n",
    "\n",
    "file_path_clean = f'c:/Users/erwan/Documents/ENPC/2A/PRAMA/PRAMA_Projet/toy_corpus/cleaned_text_{number_char_chosen}.txt'\n",
    "\n",
    "with open(file_path_clean, 'w', encoding='utf-8') as file:\n",
    "    file.write(text)"
   ]
  },
  {
   "cell_type": "markdown",
   "metadata": {},
   "source": [
    "# Création du dataset d'entraînement à partir de la base de données"
   ]
  },
  {
   "cell_type": "code",
   "execution_count": null,
   "metadata": {},
   "outputs": [],
   "source": [
    "# Ouverture du document\n",
    "\n",
    "with open(file_path_clean, 'r', encoding='utf-8') as file:\n",
    "    text = file.read()\n",
    "    words = text.split()\n",
    "\n",
    "number_words = len(words)\n",
    "\n",
    "# Initialisation d'un dictionnaire\n",
    "word_counts = {}\n",
    "\n",
    "# Comptage des occurences des mots et remplissage du dictionnaire\n",
    "for word in words:\n",
    "    if word in word_counts:\n",
    "        word_counts[word] += 1\n",
    "    else:\n",
    "        word_counts[word] = 1\n",
    "\n",
    "# Conversion du dictionnaire en DataFrame\n",
    "df = pd.DataFrame(list(word_counts.items()), columns=['mot', 'occurence'])\n",
    "df.set_index('mot', inplace=True)\n",
    "df['fréquence (%)'] = df['occurence'] / number_words * 100\n",
    "\n",
    "print(word_counts)\n",
    "df.head()"
   ]
  },
  {
   "cell_type": "code",
   "execution_count": null,
   "metadata": {},
   "outputs": [],
   "source": [
    "# Exportation du DataFrame en fichier csv\n",
    "\n",
    "df.to_csv(f'C:/Users/erwan/Documents/ENPC/2A/PRAMA/PRAMA_Projet/toy_corpus/europarl-v6.fr-en.fr_clean_{number_char_chosen}_frequency.csv')"
   ]
  },
  {
   "cell_type": "code",
   "execution_count": null,
   "metadata": {},
   "outputs": [],
   "source": []
  }
 ],
 "metadata": {
  "kernelspec": {
   "display_name": "Python 3",
   "language": "python",
   "name": "python3"
  },
  "language_info": {
   "codemirror_mode": {
    "name": "ipython",
    "version": 3
   },
   "file_extension": ".py",
   "mimetype": "text/x-python",
   "name": "python",
   "nbconvert_exporter": "python",
   "pygments_lexer": "ipython3",
   "version": "3.11.2"
  }
 },
 "nbformat": 4,
 "nbformat_minor": 2
}
