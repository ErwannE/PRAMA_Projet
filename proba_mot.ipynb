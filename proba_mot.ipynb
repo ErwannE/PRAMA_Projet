{
 "cells": [
  {
   "cell_type": "markdown",
   "metadata": {},
   "source": [
    "Ce document vise à calculer les probabilités qu'un mot tapé soit un autre mot de notre base de données.\n",
    "On part du principe qu'on a une liste de mots connus.\n",
    "On se soucie simplement de regarder la ressemblance avec d'autres mots existants, pas de regarder les mots à proximité."
   ]
  },
  {
   "cell_type": "code",
   "execution_count": 1,
   "metadata": {},
   "outputs": [],
   "source": [
    "dictionnaire = ['aime', 'aimé', 'aimer', 'aimes', 'meme', 'aimez', 'mimez', 'mime', 'même', 'mimer', 'mimes', 'mimé']\n",
    "# exemple jouet, on déploiera ça de manière plus générale une fois qu'on aura la data de Quentin"
   ]
  },
  {
   "cell_type": "markdown",
   "metadata": {},
   "source": [
    "La méthode qu'on va utiliser consiste à regarder le mot tapé de gauche à droite, et de calculer le nombre de lettres différentes pour chaque mot de notre dictionnaire."
   ]
  },
  {
   "cell_type": "markdown",
   "metadata": {},
   "source": [
    "Les probabilités calculées le seront a partir d'un score. Il faut considérer l'ensemble des erreurs possibles. On prend :\n",
    "- La taille du mot qui diffère;\n",
    "- Le nombre de lettres différentes (score plus ou moins important si les lettres sont proches de la lettre visée ou pas);\n",
    "- Eventuelles inversions de lettres;\n",
    "- Fautes d'accent"
   ]
  },
  {
   "cell_type": "markdown",
   "metadata": {},
   "source": [
    "On suppose que deux mots peuvent potentiellement être proches seulement s'ils ont une taille assez similaire (+2 ou -1 caractères)"
   ]
  },
  {
   "cell_type": "code",
   "execution_count": 5,
   "metadata": {},
   "outputs": [
    {
     "data": {
      "text/plain": [
       "True"
      ]
     },
     "execution_count": 5,
     "metadata": {},
     "output_type": "execute_result"
    }
   ],
   "source": [
    "def is_len_words_near(mot_tapé, mot_dico):\n",
    "    assert isinstance(mot_tapé, str)\n",
    "    assert isinstance(mot_dico, str)\n",
    "    n1 = len(mot_tapé)\n",
    "    n2 = len(mot_dico)\n",
    "    return (n1 >= n2-1 & n1 <= n2+2)\n",
    "\n",
    "is_len_words_near('aime', 'aimeras')"
   ]
  },
  {
   "cell_type": "markdown",
   "metadata": {},
   "source": [
    "Les mots qui ne satisfont pas ce critère voient leur probabilité d'être potentiellment proches égale à 0."
   ]
  },
  {
   "cell_type": "markdown",
   "metadata": {},
   "source": [
    "On suppose aussi que la première lettre du mot est toujours la bonne (c'est ce que font les correcteurs). Donc les mots qui ne commencent pas par la même lettre ont une probabilité nulle aussi."
   ]
  },
  {
   "cell_type": "code",
   "execution_count": 7,
   "metadata": {},
   "outputs": [
    {
     "data": {
      "text/plain": [
       "False"
      ]
     },
     "execution_count": 7,
     "metadata": {},
     "output_type": "execute_result"
    }
   ],
   "source": [
    "def is_first_letter_the_same(mot_tapé, mot_dico):\n",
    "    assert isinstance(mot_tapé, str)\n",
    "    assert isinstance(mot_dico, str)\n",
    "    return (mot_tapé[0] == mot_dico[0])\n",
    "\n",
    "is_first_letter_the_same('aime', 'mimer')"
   ]
  },
  {
   "cell_type": "markdown",
   "metadata": {},
   "source": [
    "Calcul du nombre de lettres différentes : on ajoute 3 au score si la lettre est différente et loin, 1 si elle est différente et proche, 1 si c'est une faute d'accent."
   ]
  },
  {
   "cell_type": "code",
   "execution_count": null,
   "metadata": {},
   "outputs": [],
   "source": [
    "dict_proches_clavier = {\"a\":[\"&\",\"é\",\"z\",\"s\",\"q\"],\"z\":[\"&\",\"é\",\"a\",\"s\",\"q\",\"d\",\"e\",\"\\\"\"],\"e\":[\"\\'\",\"\\\"\",\"z\",\"s\",\"f\",\"d\",\"r\"],\n",
    " \"t\":[\"-\",\"y\",\"g\",\"f\",\"h\",\"r\",\"(\"],\"y\":[\"-\",\"t\",\"g\",\"j\",\"h\",\"u\",\"è\"],\"u\":[\"_\",\"y\",\"k\",\"j\",\"h\",\"i\",\"è\"],\n",
    " \"i\":[\"_\",\"u\",\"k\",\"j\",\"l\",\"o\",\"ç\"],\"o\":[\"à\",\"i\",\"k\",\"m\",\"l\",\"p\",\"ç\"],\"p\":[\"o\",\"l\",\"m\",\"ù\",\")\",\"à\"],\n",
    " \"q\":[\"a\",\"z\",\"s\",\"w\",\"x\",\"<\"],\"s\":[\"a\",\"z\",\"k\",\"q\",\"d\",\"w\",\"x\"],\"d\":[\"s\",\"z\",\"e\",\"r\",\"f\",\"x\",\"c\"],\n",
    " \"f\":[\"e\",\"r\",\"t\",\"d\",\"g\",\"c\",\"v\"],\"g\":[\"r\",\"t\",\"y\",\"h\",\"f\",\"v\",\"b\"],\"h\":[\"t\",\"y\",\"u\",\"g\",\"j\",\"b\",\"n\"],\n",
    " \"j\":[\"u\",\"i\",\"y\",\"h\",\"k\",\"n\",\",\"],\"k\":[\"u\",\"i\",\"o\",\"j\",\"l\",\",\",\";\"],\"l\":[\"i\",\"o\",\"p\",\"k\",\"m\",\";\",\":\"],\n",
    " \"m\":[\"o\",\"p\",\"ù\",\"l\",\":\",\"!\"],\"w\":[\"<\",\"q\",\"s\",\"d\",\"x\"],\"x\":[\"q\",\"s\",\"d\",\"c\",\"w\"],\"c\":[\"s\",\"d\",\"f\",\"x\",\"v\"],\n",
    " \"v\":[\"f\",\"g\",\"c\",\"b\"],\"b\":[\"v\",\"g\",\"h\",\"n\"],\"i\":[\"b\",\"h\",\"j\",\",\"],\"r\":[\"\\'\",\"t\",\"g\",\"f\",\"d\",\"e\",\"(\"]}"
   ]
  },
  {
   "cell_type": "code",
   "execution_count": null,
   "metadata": {},
   "outputs": [],
   "source": [
    "def edit_distance(s1, s2):\n",
    "    # Nombre d'opérations nécessaires pour aller d'un mot à un autre (parmi suppression d'un carac, insertion, substitution)\n",
    "    dp = [[0 for j in range(len(s2)+1)] for i in range(len(s1)+1)]\n",
    "    for i in range(1, len(s2)+1):\n",
    "        dp[0][i] = i\n",
    "    \n",
    "    for i in range(1, len(s1)+1):\n",
    "        dp[i][0] = i\n",
    "\n",
    "    for i in range(1, len(s1) + 1):\n",
    "        for j in range(1, len(s2) + 1):\n",
    "            dp[i][j] = min(min(dp[i-1][j], dp[i][j-1]) + 1, dp[i-1][j-1] + (1 if s1[i-1] != s2[j-1] else 0))\n",
    "    \n",
    "    return dp[len(s1)][len(s2)]"
   ]
  },
  {
   "cell_type": "code",
   "execution_count": null,
   "metadata": {},
   "outputs": [],
   "source": [
    "def edits1(word):\n",
    "    \"\"\"All edits that are one edit away from 'word'\"\"\"\n",
    "    letters = 'abcdefghijklmnopqrstuvwxyz'\n",
    "    splits = [(word[:i], word[i:]) for i in range(len(word) + 1)]\n",
    " \n",
    "    deletes = [L + R[1:] for L, R in splits if R]\n",
    "    transposes = [L + R[1] + R[0] + R[2:] for L, R in splits if len(R) > 1]\n",
    "    replaces = [L + c + R[1:] for L, R in splits if R for c in letters]\n",
    "    inserts = [L + c + R for L, R in splits for c in letters]\n",
    "    return set(deletes + transposes + replaces + inserts)"
   ]
  },
  {
   "cell_type": "code",
   "execution_count": null,
   "metadata": {},
   "outputs": [],
   "source": [
    "def editsk(word, k):\n",
    "    \"\"\"All edits that are k edits away from 'word'\"\"\"\n",
    "    e = edits1(word)\n",
    "    prev = e\n",
    "    for i in range(1, k):\n",
    "        temp = set(e2 for e1 in prev for e2 in edits1(e1))\n",
    "        e.update(temp)\n",
    "        prev = temp\n",
    "    e.discard(word)\n",
    "    return e"
   ]
  },
  {
   "cell_type": "code",
   "execution_count": null,
   "metadata": {},
   "outputs": [],
   "source": [
    "def score_letter_diff(lettre_tapée, lettre_dico):\n",
    "    score = 0\n",
    "    #if lettre_tapée in dico_accents and lettre_dico in dico_accents:\n",
    "        #score += 1\n",
    "    if lettre_dico.isin(dict_proches_clavier[lettre_tapée]):\n",
    "        score += 1\n",
    "    elif lettre_dico != lettre_tapée:\n",
    "        score += 3\n",
    "    return score\n",
    "    "
   ]
  },
  {
   "cell_type": "code",
   "execution_count": null,
   "metadata": {},
   "outputs": [],
   "source": []
  }
 ],
 "metadata": {
  "kernelspec": {
   "display_name": "base",
   "language": "python",
   "name": "python3"
  },
  "language_info": {
   "codemirror_mode": {
    "name": "ipython",
    "version": 3
   },
   "file_extension": ".py",
   "mimetype": "text/x-python",
   "name": "python",
   "nbconvert_exporter": "python",
   "pygments_lexer": "ipython3",
   "version": "3.11.9"
  }
 },
 "nbformat": 4,
 "nbformat_minor": 2
}
